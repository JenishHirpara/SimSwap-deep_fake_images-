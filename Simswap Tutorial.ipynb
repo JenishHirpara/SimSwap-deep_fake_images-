{
 "cells": [
  {
   "cell_type": "markdown",
   "metadata": {},
   "source": [
    "# 1. Clone Repo"
   ]
  },
  {
   "cell_type": "code",
   "execution_count": 1,
   "metadata": {},
   "outputs": [
    {
     "name": "stderr",
     "output_type": "stream",
     "text": [
      "Cloning into 'SimSwap'...\n"
     ]
    }
   ],
   "source": [
    "!git clone https://github.com/neuralchen/SimSwap"
   ]
  },
  {
   "cell_type": "markdown",
   "metadata": {},
   "source": [
    "# 2. Install PyTorch and Deps"
   ]
  },
  {
   "cell_type": "code",
   "execution_count": 2,
   "metadata": {
    "tags": []
   },
   "outputs": [
    {
     "name": "stdout",
     "output_type": "stream",
     "text": [
      "Collecting torch\n",
      "  Using cached torch-1.11.0-cp38-cp38-win_amd64.whl (158.0 MB)\n",
      "Collecting torchvision\n",
      "  Using cached torchvision-0.12.0-cp38-cp38-win_amd64.whl (1.0 MB)\n",
      "Collecting torchaudio\n",
      "  Downloading torchaudio-0.11.0-cp38-cp38-win_amd64.whl (372 kB)\n",
      "     ------------------------------------ 372.5/372.5 KB 194.9 kB/s eta 0:00:00\n",
      "Collecting typing-extensions\n",
      "  Using cached typing_extensions-4.1.1-py3-none-any.whl (26 kB)\n",
      "Collecting numpy\n",
      "  Using cached numpy-1.22.3-cp38-cp38-win_amd64.whl (14.7 MB)\n",
      "Collecting pillow!=8.3.*,>=5.3.0\n",
      "  Using cached Pillow-9.0.1-cp38-cp38-win_amd64.whl (3.2 MB)\n",
      "Collecting requests\n",
      "  Using cached requests-2.27.1-py2.py3-none-any.whl (63 kB)\n",
      "Collecting urllib3<1.27,>=1.21.1\n",
      "  Using cached urllib3-1.26.9-py2.py3-none-any.whl (138 kB)\n",
      "Collecting idna<4,>=2.5\n",
      "  Using cached idna-3.3-py3-none-any.whl (61 kB)\n",
      "Collecting charset-normalizer~=2.0.0\n",
      "  Using cached charset_normalizer-2.0.12-py3-none-any.whl (39 kB)\n",
      "Collecting certifi>=2017.4.17\n",
      "  Using cached certifi-2021.10.8-py2.py3-none-any.whl (149 kB)\n",
      "Installing collected packages: certifi, urllib3, typing-extensions, pillow, numpy, idna, charset-normalizer, torch, requests, torchvision, torchaudio\n",
      "Successfully installed certifi-2021.10.8 charset-normalizer-2.0.12 idna-3.3 numpy-1.22.3 pillow-9.0.1 requests-2.27.1 torch-1.11.0 torchaudio-0.11.0 torchvision-0.12.0 typing-extensions-4.1.1 urllib3-1.26.9\n"
     ]
    }
   ],
   "source": [
    "!pip install torch torchvision torchaudio"
   ]
  },
  {
   "cell_type": "code",
   "execution_count": 4,
   "metadata": {
    "tags": []
   },
   "outputs": [
    {
     "name": "stdout",
     "output_type": "stream",
     "text": [
      "Collecting insightface==0.2.1\n",
      "  Downloading insightface-0.2.1-py2.py3-none-any.whl (24 kB)\n",
      "Collecting onnxruntime\n",
      "  Downloading onnxruntime-1.11.0-cp38-cp38-win_amd64.whl (5.5 MB)\n",
      "     ---------------------------------------- 5.5/5.5 MB 7.4 MB/s eta 0:00:00\n",
      "Collecting moviepy\n",
      "  Downloading moviepy-1.0.3.tar.gz (388 kB)\n",
      "     -------------------------------------- 388.3/388.3 KB 8.2 MB/s eta 0:00:00\n",
      "  Preparing metadata (setup.py): started\n",
      "  Preparing metadata (setup.py): finished with status 'done'\n",
      "Collecting tqdm\n",
      "  Downloading tqdm-4.63.1-py2.py3-none-any.whl (76 kB)\n",
      "     ---------------------------------------- 76.6/76.6 KB 4.1 MB/s eta 0:00:00\n",
      "Collecting opencv-python\n",
      "  Using cached opencv_python-4.5.5.64-cp36-abi3-win_amd64.whl (35.4 MB)\n",
      "Collecting onnx\n",
      "  Downloading onnx-1.11.0-cp38-cp38-win_amd64.whl (11.2 MB)\n",
      "     ---------------------------------------- 11.2/11.2 MB 7.5 MB/s eta 0:00:00\n",
      "Collecting scikit-image\n",
      "  Using cached scikit_image-0.19.2-cp38-cp38-win_amd64.whl (12.6 MB)\n",
      "Collecting scipy\n",
      "  Downloading scipy-1.8.0-cp38-cp38-win_amd64.whl (36.9 MB)\n",
      "     ---------------------------------------- 36.9/36.9 MB 1.1 MB/s eta 0:00:00\n",
      "Collecting easydict\n",
      "  Downloading easydict-1.9.tar.gz (6.4 kB)\n",
      "  Preparing metadata (setup.py): started\n",
      "  Preparing metadata (setup.py): finished with status 'done'\n",
      "Collecting matplotlib\n",
      "  Downloading matplotlib-3.5.1-cp38-cp38-win_amd64.whl (7.2 MB)\n",
      "     ---------------------------------------- 7.2/7.2 MB 1.6 MB/s eta 0:00:00\n",
      "Requirement already satisfied: requests in d:\\simswap(deep_fake_images)\\simswapen\\lib\\site-packages (from insightface==0.2.1) (2.27.1)\n",
      "Requirement already satisfied: numpy in d:\\simswap(deep_fake_images)\\simswapen\\lib\\site-packages (from insightface==0.2.1) (1.22.3)\n",
      "Requirement already satisfied: Pillow in d:\\simswap(deep_fake_images)\\simswapen\\lib\\site-packages (from insightface==0.2.1) (9.0.1)\n",
      "Collecting scikit-learn\n",
      "  Downloading scikit_learn-1.0.2-cp38-cp38-win_amd64.whl (7.2 MB)\n",
      "     ---------------------------------------- 7.2/7.2 MB 7.2 MB/s eta 0:00:00\n",
      "Collecting protobuf\n",
      "  Using cached protobuf-3.19.4-cp38-cp38-win_amd64.whl (895 kB)\n",
      "Collecting flatbuffers\n",
      "  Using cached flatbuffers-2.0-py2.py3-none-any.whl (26 kB)\n",
      "Collecting decorator<5.0,>=4.0.2\n",
      "  Using cached decorator-4.4.2-py2.py3-none-any.whl (9.2 kB)\n",
      "Collecting proglog<=1.0.0\n",
      "  Downloading proglog-0.1.9.tar.gz (10 kB)\n",
      "  Preparing metadata (setup.py): started\n",
      "  Preparing metadata (setup.py): finished with status 'done'\n",
      "Collecting imageio<3.0,>=2.5\n",
      "  Using cached imageio-2.16.1-py3-none-any.whl (3.3 MB)\n",
      "Collecting imageio_ffmpeg>=0.2.0\n",
      "  Downloading imageio_ffmpeg-0.4.5-py3-none-win_amd64.whl (22.6 MB)\n",
      "     ---------------------------------------- 22.6/22.6 MB 5.5 MB/s eta 0:00:00\n",
      "Requirement already satisfied: urllib3<1.27,>=1.21.1 in d:\\simswap(deep_fake_images)\\simswapen\\lib\\site-packages (from requests->insightface==0.2.1) (1.26.9)\n",
      "Requirement already satisfied: charset-normalizer~=2.0.0 in d:\\simswap(deep_fake_images)\\simswapen\\lib\\site-packages (from requests->insightface==0.2.1) (2.0.12)\n",
      "Requirement already satisfied: idna<4,>=2.5 in d:\\simswap(deep_fake_images)\\simswapen\\lib\\site-packages (from requests->insightface==0.2.1) (3.3)\n",
      "Requirement already satisfied: certifi>=2017.4.17 in d:\\simswap(deep_fake_images)\\simswapen\\lib\\site-packages (from requests->insightface==0.2.1) (2021.10.8)\n",
      "Requirement already satisfied: colorama in d:\\simswap(deep_fake_images)\\simswapen\\lib\\site-packages (from tqdm->insightface==0.2.1) (0.4.4)\n",
      "Collecting pyparsing>=2.2.1\n",
      "  Using cached pyparsing-3.0.7-py3-none-any.whl (98 kB)\n",
      "Collecting packaging>=20.0\n",
      "  Using cached packaging-21.3-py3-none-any.whl (40 kB)\n",
      "Requirement already satisfied: python-dateutil>=2.7 in d:\\simswap(deep_fake_images)\\simswapen\\lib\\site-packages (from matplotlib->insightface==0.2.1) (2.8.2)\n",
      "Collecting kiwisolver>=1.0.1\n",
      "  Downloading kiwisolver-1.4.1-cp38-cp38-win_amd64.whl (55 kB)\n",
      "     ---------------------------------------- 55.4/55.4 KB 1.5 MB/s eta 0:00:00\n",
      "Collecting cycler>=0.10\n",
      "  Using cached cycler-0.11.0-py3-none-any.whl (6.4 kB)\n",
      "Collecting fonttools>=4.22.0\n",
      "  Downloading fonttools-4.31.2-py3-none-any.whl (899 kB)\n",
      "     -------------------------------------- 899.5/899.5 KB 6.4 MB/s eta 0:00:00\n",
      "Requirement already satisfied: typing-extensions>=3.6.2.1 in d:\\simswap(deep_fake_images)\\simswapen\\lib\\site-packages (from onnx->insightface==0.2.1) (4.1.1)\n",
      "Collecting tifffile>=2019.7.26\n",
      "  Downloading tifffile-2022.3.25-py3-none-any.whl (179 kB)\n",
      "     ------------------------------------- 179.9/179.9 KB 10.6 MB/s eta 0:00:00\n",
      "Collecting networkx>=2.2\n",
      "  Using cached networkx-2.7.1-py3-none-any.whl (2.0 MB)\n",
      "Collecting PyWavelets>=1.1.1\n",
      "  Using cached PyWavelets-1.3.0-cp38-cp38-win_amd64.whl (4.2 MB)\n",
      "Collecting threadpoolctl>=2.0.0\n",
      "  Downloading threadpoolctl-3.1.0-py3-none-any.whl (14 kB)\n",
      "Collecting joblib>=0.11\n",
      "  Downloading joblib-1.1.0-py2.py3-none-any.whl (306 kB)\n",
      "     -------------------------------------- 307.0/307.0 KB 6.3 MB/s eta 0:00:00\n",
      "Requirement already satisfied: six>=1.5 in d:\\simswap(deep_fake_images)\\simswapen\\lib\\site-packages (from python-dateutil>=2.7->matplotlib->insightface==0.2.1) (1.16.0)\n",
      "Using legacy 'setup.py install' for moviepy, since package 'wheel' is not installed.\n",
      "Using legacy 'setup.py install' for proglog, since package 'wheel' is not installed.\n",
      "Using legacy 'setup.py install' for easydict, since package 'wheel' is not installed.\n",
      "Installing collected packages: flatbuffers, easydict, tqdm, tifffile, threadpoolctl, scipy, PyWavelets, pyparsing, protobuf, opencv-python, networkx, kiwisolver, joblib, imageio_ffmpeg, imageio, fonttools, decorator, cycler, scikit-learn, proglog, packaging, onnxruntime, onnx, scikit-image, moviepy, matplotlib, insightface\n",
      "  Running setup.py install for easydict: started\n",
      "  Running setup.py install for easydict: finished with status 'done'\n",
      "  Attempting uninstall: decorator\n",
      "    Found existing installation: decorator 5.1.1\n",
      "    Uninstalling decorator-5.1.1:\n",
      "      Successfully uninstalled decorator-5.1.1\n",
      "  Running setup.py install for proglog: started\n",
      "  Running setup.py install for proglog: finished with status 'done'\n",
      "  Running setup.py install for moviepy: started\n",
      "  Running setup.py install for moviepy: finished with status 'done'\n",
      "Successfully installed PyWavelets-1.3.0 cycler-0.11.0 decorator-4.4.2 easydict-1.9 flatbuffers-2.0 fonttools-4.31.2 imageio-2.16.1 imageio_ffmpeg-0.4.5 insightface-0.2.1 joblib-1.1.0 kiwisolver-1.4.1 matplotlib-3.5.1 moviepy-1.0.3 networkx-2.7.1 onnx-1.11.0 onnxruntime-1.11.0 opencv-python-4.5.5.64 packaging-21.3 proglog-0.1.9 protobuf-3.19.4 pyparsing-3.0.7 scikit-image-0.19.2 scikit-learn-1.0.2 scipy-1.8.0 threadpoolctl-3.1.0 tifffile-2022.3.25 tqdm-4.63.1\n"
     ]
    }
   ],
   "source": [
    "# for gpu\n",
    "# !pip install insightface==0.2.1 moviepy onnxruntime-gpu==1.9.0\n",
    "!pip install insightface==0.2.1 onnxruntime moviepy"
   ]
  },
  {
   "cell_type": "code",
   "execution_count": 5,
   "metadata": {
    "tags": []
   },
   "outputs": [
    {
     "name": "stdout",
     "output_type": "stream",
     "text": [
      "Package            Version\n",
      "------------------ ---------\n",
      "asttokens          2.0.5\n",
      "backcall           0.2.0\n",
      "certifi            2021.10.8\n",
      "charset-normalizer 2.0.12\n",
      "colorama           0.4.4\n",
      "cycler             0.11.0\n",
      "debugpy            1.6.0\n",
      "decorator          4.4.2\n",
      "easydict           1.9\n",
      "entrypoints        0.4\n",
      "executing          0.8.3\n",
      "flatbuffers        2.0\n",
      "fonttools          4.31.2\n",
      "idna               3.3\n",
      "imageio            2.16.1\n",
      "imageio-ffmpeg     0.4.5\n",
      "insightface        0.2.1\n",
      "ipykernel          6.10.0\n",
      "ipython            8.2.0\n",
      "jedi               0.18.1\n",
      "joblib             1.1.0\n",
      "jupyter-client     7.1.2\n",
      "jupyter-core       4.9.2\n",
      "kiwisolver         1.4.1\n",
      "matplotlib         3.5.1\n",
      "matplotlib-inline  0.1.3\n",
      "moviepy            1.0.3\n",
      "nest-asyncio       1.5.4\n",
      "networkx           2.7.1\n",
      "numpy              1.22.3\n",
      "onnx               1.11.0\n",
      "onnxruntime        1.11.0\n",
      "opencv-python      4.5.5.64\n",
      "packaging          21.3\n",
      "parso              0.8.3\n",
      "pickleshare        0.7.5\n",
      "Pillow             9.0.1\n",
      "pip                22.0.4\n",
      "proglog            0.1.9\n",
      "prompt-toolkit     3.0.28\n",
      "protobuf           3.19.4\n",
      "psutil             5.9.0\n",
      "pure-eval          0.2.2\n",
      "Pygments           2.11.2\n",
      "pyparsing          3.0.7\n",
      "python-dateutil    2.8.2\n",
      "PyWavelets         1.3.0\n",
      "pywin32            303\n",
      "pyzmq              22.3.0\n",
      "requests           2.27.1\n",
      "scikit-image       0.19.2\n",
      "scikit-learn       1.0.2\n",
      "scipy              1.8.0\n",
      "setuptools         49.2.1\n",
      "six                1.16.0\n",
      "stack-data         0.2.0\n",
      "threadpoolctl      3.1.0\n",
      "tifffile           2022.3.25\n",
      "torch              1.11.0\n",
      "torchaudio         0.11.0\n",
      "torchvision        0.12.0\n",
      "tornado            6.1\n",
      "tqdm               4.63.1\n",
      "traitlets          5.1.1\n",
      "typing_extensions  4.1.1\n",
      "urllib3            1.26.9\n",
      "wcwidth            0.2.5\n"
     ]
    }
   ],
   "source": [
    "!pip list"
   ]
  },
  {
   "cell_type": "markdown",
   "metadata": {},
   "source": [
    "# 3. Place Models Where Needed"
   ]
  },
  {
   "cell_type": "markdown",
   "metadata": {},
   "source": [
    "3.1 Put this in here: ./insightface_func/models/antelope    ## Onnx models should be in antelope folder(unzip it)\n",
    "- https://onedrive.live.com/?authkey=%21ADJ0aAOSsc90neY&cid=4A83B6B633B029CC&id=4A83B6B633B029CC%215837&parId=4A83B6B633B029CC%215834&action=locate"
   ]
  },
  {
   "cell_type": "markdown",
   "metadata": {},
   "source": [
    "3.2 Put this in here: ./parsing_model/checkpoint # pth file should be in checkpoint folder\n",
    "- https://drive.google.com/file/d/154JgKpzCPW82qINcVieuPH3fZ2e0P812/view"
   ]
  },
  {
   "cell_type": "markdown",
   "metadata": {},
   "source": [
    "3.3 Copy the arcface_checkpoint.tar into ./arcface_model - pw: jd2v\n",
    "- Unzip checkpoints.zip, place it in the root dir ./checkpoints\n",
    "- https://drive.google.com/drive/folders/1jV6_0FIMPC53FZ2HzZNJZGMe55bbu17R?usp=sharing"
   ]
  },
  {
   "cell_type": "markdown",
   "metadata": {},
   "source": [
    "# 4. Face Swap Images"
   ]
  },
  {
   "cell_type": "code",
   "execution_count": null,
   "metadata": {
    "tags": []
   },
   "outputs": [],
   "source": [
    "!cd SimSwap & python test_one_image.py --name people --Arc_path arcface_model/arcface_checkpoint.tar --pic_a_path crop_224/nickcanva.jpg --pic_b_path crop_224/lewiscanva.jpg --output_path output/ "
   ]
  },
  {
   "cell_type": "markdown",
   "metadata": {},
   "source": [
    "# 5. Face Swap Videos"
   ]
  },
  {
   "cell_type": "code",
   "execution_count": null,
   "metadata": {},
   "outputs": [],
   "source": [
    "!cd SimSwap & python test_video_swapsingle.py --crop_size 224 --use_mask --name people --Arc_path arcface_model/arcface_checkpoint.tar --pic_a_path ./videoswap/Iron_man.jpg --video_path ./videoswap/nick.mp4 --output_path ./videoswap/ironnick.mp4 --temp_path ./temp_results "
   ]
  },
  {
   "cell_type": "code",
   "execution_count": null,
   "metadata": {
    "tags": []
   },
   "outputs": [],
   "source": [
    "!cd SimSwap & python test_video_swapsingle.py  --crop_size 224 --use_mask --name people --Arc_path arcface_model/arcface_checkpoint.tar --pic_a_path ./videoswap/Capture.png --video_path ./videoswap/rockhighres.mp4 --output_path ./videoswap/ironnick.mp4 --temp_path ./temp_results "
   ]
  }
 ],
 "metadata": {
  "kernelspec": {
   "display_name": "simswapen",
   "language": "python",
   "name": "simswapen"
  },
  "language_info": {
   "codemirror_mode": {
    "name": "ipython",
    "version": 3
   },
   "file_extension": ".py",
   "mimetype": "text/x-python",
   "name": "python",
   "nbconvert_exporter": "python",
   "pygments_lexer": "ipython3",
   "version": "3.8.8"
  }
 },
 "nbformat": 4,
 "nbformat_minor": 4
}
